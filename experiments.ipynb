{
 "cells": [
  {
   "cell_type": "code",
   "execution_count": 62,
   "metadata": {},
   "outputs": [],
   "source": [
    "from bs4 import BeautifulSoup\n",
    "import cloudscraper\n",
    "scraper = cloudscraper.create_scraper(delay=10,   browser={'custom': 'ScraperBot/1.0',})\n",
    "url = 'https://www.rent.com/zip-78758-apartments'\n",
    "req = scraper.get(url)"
   ]
  },
  {
   "cell_type": "code",
   "execution_count": 63,
   "metadata": {},
   "outputs": [
    {
     "data": {
      "text/plain": [
       "['https://www.rent.com/texas/austin-apartments/camden-huntingdon-4-2557',\n",
       " 'https://www.rent.com/texas/austin-apartments/furnished-studio-austin-northwestarboretum-the-domain-4-100032943',\n",
       " 'https://www.rent.com/texas/austin-apartments/room-for-rent-10410-golden-meadow-drive-4-r3393913',\n",
       " 'https://www.rent.com/texas/austin-apartments/room-for-rent-10410-golden-meadow-drive-4-r3393912',\n",
       " 'https://www.rent.com/texas/austin-apartments/10410-golden-meadow-drive-4-r3393911',\n",
       " 'https://www.rent.com/texas/austin-apartments/room-for-rent-10100-oak-hollow-circle-4-r3392993',\n",
       " 'https://www.rent.com/texas/austin-apartments/room-for-rent-10100-oak-hollow-circle-4-r3392991',\n",
       " 'https://www.rent.com/texas/austin-apartments/10100-oak-hollow-circle-4-r3392990',\n",
       " 'https://www.rent.com/texas/austin-apartments/room-for-rent-1738-rutland-drive-4-r3391193',\n",
       " 'https://www.rent.com/texas/austin-apartments/room-for-rent-1738-rutland-drive-4-r3391191',\n",
       " 'https://www.rent.com/texas/austin-apartments/1738-rutland-drive-4-r3391189',\n",
       " 'https://www.rent.com/texas/austin-apartments/room-for-rent-9803-chukar-circle-4-r3391569',\n",
       " 'https://www.rent.com/texas/austin-apartments/room-for-rent-9803-chukar-circle-4-r3391571',\n",
       " 'https://www.rent.com/texas/austin-apartments/9803-chukar-circle-4-r3391566',\n",
       " 'https://www.rent.com/texas/austin-apartments/1804-w-rundberg-ln-1199-4-r3118101',\n",
       " 'https://www.rent.com/texas/austin-apartments/1804-w-rundberg-ln-1198-4-r3118100',\n",
       " 'https://www.rent.com/texas/austin-apartments/2511-w-braker-ln-31247-4-r3374040',\n",
       " 'https://www.rent.com/texas/austin-apartments/2511-w-braker-ln-31256-4-r3374047',\n",
       " 'https://www.rent.com/texas/austin-apartments/esperanza-domain-4-100076789',\n",
       " 'https://www.rent.com/texas/austin-apartments/renaissance-at-north-bend-4-324647',\n",
       " 'https://www.rent.com/texas/austin-apartments/room-for-rent-10410-golden-meadow-drive-4-r3393914',\n",
       " 'https://www.rent.com/texas/austin-apartments/room-for-rent-10100-oak-hollow-circle-4-r3392992',\n",
       " 'https://www.rent.com/texas/austin-apartments/room-for-rent-1738-rutland-drive-4-r3391190',\n",
       " 'https://www.rent.com/texas/austin-apartments/room-for-rent-1738-rutland-drive-4-r3391192',\n",
       " 'https://www.rent.com/texas/austin-apartments/room-for-rent-9803-chukar-circle-4-r3391570',\n",
       " 'https://www.rent.com/texas/austin-apartments/room-for-rent-9803-chukar-circle-4-r3391568',\n",
       " 'https://www.rent.com/texas/austin-houses/10904-humington-dr-4-r3389326',\n",
       " 'https://www.rent.com/texas/austin-apartments/1804-w-rundberg-ln-1201-4-r3118103',\n",
       " 'https://www.rent.com/texas/austin-apartments/1804-w-rundberg-ln-1200-4-r3118102',\n",
       " 'https://www.rent.com/texas/austin-apartments/2511-w-braker-ln-31246-4-r3374039']"
      ]
     },
     "execution_count": 63,
     "metadata": {},
     "output_type": "execute_result"
    }
   ],
   "source": [
    "soup = BeautifulSoup(req.content,'lxml')\n",
    "property_links = []\n",
    "url_prefix = \"https://www.rent.com\"\n",
    "for a in soup.select('a[data-tid=\"pdp-link\"]'):\n",
    "    property_links.append(url_prefix+a.attrs['href'])\n",
    "page_links = []\n",
    "for a in soup.select('a[data-tag_section=\"pagination\"]'):\n",
    "    page_links.append(url_prefix+a.attrs['href'])\n",
    "property_links"
   ]
  },
  {
   "cell_type": "code",
   "execution_count": 75,
   "metadata": {},
   "outputs": [],
   "source": [
    "import pandas as pd    \n",
    "jsonObj = pd.read_json(path_or_buf='rent.jl', lines=True)"
   ]
  },
  {
   "cell_type": "code",
   "execution_count": 76,
   "metadata": {},
   "outputs": [
    {
     "name": "stdout",
     "output_type": "stream",
     "text": [
      "50\n",
      "50\n"
     ]
    }
   ],
   "source": [
    "print(len(jsonObj['response.url']))\n",
    "print(len(jsonObj['response.url'].drop_duplicates()))"
   ]
  },
  {
   "cell_type": "code",
   "execution_count": null,
   "metadata": {},
   "outputs": [],
   "source": []
  }
 ],
 "metadata": {
  "kernelspec": {
   "display_name": "Python 3.9.0 ('petfees')",
   "language": "python",
   "name": "python3"
  },
  "language_info": {
   "codemirror_mode": {
    "name": "ipython",
    "version": 3
   },
   "file_extension": ".py",
   "mimetype": "text/x-python",
   "name": "python",
   "nbconvert_exporter": "python",
   "pygments_lexer": "ipython3",
   "version": "3.9.0"
  },
  "orig_nbformat": 4,
  "vscode": {
   "interpreter": {
    "hash": "587a624eb669c6ee4ebfbd32935efc09acf32017c32e7e7e735b7defc93b8c41"
   }
  }
 },
 "nbformat": 4,
 "nbformat_minor": 2
}
